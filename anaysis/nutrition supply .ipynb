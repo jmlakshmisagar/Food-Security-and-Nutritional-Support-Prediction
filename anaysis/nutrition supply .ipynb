{
 "cells": [
  {
   "cell_type": "code",
   "execution_count": 4,
   "id": "b5b79d45",
   "metadata": {},
   "outputs": [
    {
     "data": {
      "text/plain": [
       "'necessary_nutrition.csv'"
      ]
     },
     "execution_count": 4,
     "metadata": {},
     "output_type": "execute_result"
    }
   ],
   "source": [
    "import pandas as pd\n",
    "\n",
    "# Defining sample data for necessary nutrition\n",
    "data = [\n",
    "    {\"Nutrient\": \"Protein\", \"Daily_Requirement\": 50, \"Description\": \"Essential for growth and repair of tissues\"},\n",
    "    {\"Nutrient\": \"Carbohydrates\", \"Daily_Requirement\": 300, \"Description\": \"Primary source of energy\"},\n",
    "    {\"Nutrient\": \"Total Fat\", \"Daily_Requirement\": 70, \"Description\": \"Required for energy and cell function\"},\n",
    "    {\"Nutrient\": \"Saturated Fat\", \"Daily_Requirement\": 20, \"Description\": \"Should be limited due to health concerns\"},\n",
    "    {\"Nutrient\": \"Fiber\", \"Daily_Requirement\": 25, \"Description\": \"Important for digestive health\"},\n",
    "    {\"Nutrient\": \"Sugar\", \"Daily_Requirement\": 90, \"Description\": \"Should be limited to prevent health issues\"},\n",
    "    {\"Nutrient\": \"Vitamin A\", \"Daily_Requirement\": 900, \"Description\": \"Important for vision and immune function\"},\n",
    "    {\"Nutrient\": \"Vitamin C\", \"Daily_Requirement\": 90, \"Description\": \"Necessary for the growth and repair of tissues\"},\n",
    "    {\"Nutrient\": \"Calcium\", \"Daily_Requirement\": 1000, \"Description\": \"Essential for bone health\"},\n",
    "    {\"Nutrient\": \"Iron\", \"Daily_Requirement\": 18, \"Description\": \"Required for blood production\"},\n",
    "    {\"Nutrient\": \"Potassium\", \"Daily_Requirement\": 4700, \"Description\": \"Helps maintain normal fluid balance\"},\n",
    "    {\"Nutrient\": \"Magnesium\", \"Daily_Requirement\": 400, \"Description\": \"Important for muscle and nerve function\"},\n",
    "    {\"Nutrient\": \"Zinc\", \"Daily_Requirement\": 11, \"Description\": \"Supports immune system function\"},\n",
    "    {\"Nutrient\": \"Vitamin D\", \"Daily_Requirement\": 20, \"Description\": \"Important for bone health\"},\n",
    "    {\"Nutrient\": \"Vitamin B12\", \"Daily_Requirement\": 2.4, \"Description\": \"Essential for nerve function and blood formation\"}\n",
    "]\n",
    "\n",
    "# Creating a DataFrame\n",
    "df = pd.DataFrame(data)\n",
    "\n",
    "# Saving the dataset to a CSV file\n",
    "file_path = \"necessary_nutrition.csv\"\n",
    "df.to_csv(file_path, index=False)\n",
    "\n",
    "file_path\n"
   ]
  },
  {
   "cell_type": "code",
   "execution_count": null,
   "id": "2015363c",
   "metadata": {},
   "outputs": [],
   "source": []
  }
 ],
 "metadata": {
  "kernelspec": {
   "display_name": "Python 3 (ipykernel)",
   "language": "python",
   "name": "python3"
  },
  "language_info": {
   "codemirror_mode": {
    "name": "ipython",
    "version": 3
   },
   "file_extension": ".py",
   "mimetype": "text/x-python",
   "name": "python",
   "nbconvert_exporter": "python",
   "pygments_lexer": "ipython3",
   "version": "3.12.3"
  }
 },
 "nbformat": 4,
 "nbformat_minor": 5
}
