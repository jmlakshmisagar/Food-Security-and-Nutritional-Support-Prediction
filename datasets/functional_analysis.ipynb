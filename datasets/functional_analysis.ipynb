{
 "cells": [
  {
   "cell_type": "code",
   "execution_count": 23,
   "id": "f03b0c17",
   "metadata": {},
   "outputs": [],
   "source": [
    "import pandas as pd\n",
    "import numpy as np\n",
    "from sklearn.model_selection import train_test_split\n",
    "from sklearn.linear_model import LinearRegression\n",
    "from sklearn.ensemble import RandomForestClassifier\n",
    "from sklearn.metrics import mean_absolute_error, accuracy_score\n",
    "from scipy.optimize import linprog\n",
    "import matplotlib.pyplot as plt\n",
    "import seaborn as sns\n",
    "import folium"
   ]
  },
  {
   "cell_type": "code",
   "execution_count": 24,
   "id": "6d056523",
   "metadata": {},
   "outputs": [],
   "source": [
    "merged_data=pd.read_csv('final_dataset.csv')"
   ]
  },
  {
   "cell_type": "code",
   "execution_count": 25,
   "id": "9f3621b0",
   "metadata": {},
   "outputs": [
    {
     "name": "stdout",
     "output_type": "stream",
     "text": [
      "state_name\n",
      "district_name\n",
      "crop_year\n",
      "season\n",
      "crop\n",
      "area\n",
      "production\n",
      "dist code\n",
      "year_x\n",
      "state code\n",
      "state name\n",
      "dist name\n",
      "adult male crossbred (1000 number)\n",
      "adult male indigenous (1000 number)\n",
      "adult female crossbred (1000 number)\n",
      "adult female indigenous (1000 number)\n",
      "young male crossbred (1000 number)\n",
      "young male indigenous (1000 number)\n",
      "young female crossbred (1000 number)\n",
      "young female indigenous (1000 number)\n",
      "st_code\n",
      "state/region\n",
      "actual rainfall\n",
      "normal rainfall\n",
      "dist.code\n",
      "year_y\n",
      "state.code\n",
      "state.name\n",
      "dist.name\n",
      "rice.area..1000.ha.\n",
      "rice.production..1000.tons.\n",
      "rice.yield..kg.per.ha.\n",
      "wheat.area..1000.ha.\n",
      "wheat.production..1000.tons.\n",
      "wheat.yield..kg.per.ha.\n",
      "kharif.sorghum.area..1000.ha.\n",
      "kharif.sorghum.production..1000.tons.\n",
      "kharif.sorghum.yield..kg.per.ha.\n",
      "rabi.sorghum.area..1000.ha.\n",
      "rabi.sorghum.production..1000.tons.\n",
      "rabi.sorghum.yield..kg.per.ha.\n",
      "sorghum.area..1000.ha.\n",
      "sorghum.production..1000.tons.\n",
      "sorghum.yield..kg.per.ha.\n",
      "pearl.millet.area..1000.ha.\n",
      "pearl.millet.production..1000.tons.\n",
      "pearl.millet.yield..kg.per.ha.\n",
      "maize.area..1000.ha.\n",
      "maize.production..1000.tons.\n",
      "maize.yield..kg.per.ha.\n",
      "finger.millet.area..1000.ha.\n",
      "finger.millet.production..1000.tons.\n",
      "finger.millet.yield..kg.per.ha.\n",
      "barley.area..1000.ha.\n",
      "barley.production..1000.tons.\n",
      "barley.yield..kg.per.ha.\n",
      "chickpea.area..1000.ha.\n",
      "chickpea.production..1000.tons.\n",
      "chickpea.yield..kg.per.ha.\n",
      "pigeonpea.area..1000.ha.\n",
      "pigeonpea.production..1000.tons.\n",
      "pigeonpea.yield..kg.per.ha.\n",
      "minor.pulses.area..1000.ha.\n",
      "minor.pulses.production..1000.tons.\n",
      "minor.pulses.yield..kg.per.ha.\n",
      "groundnut.area..1000.ha.\n",
      "groundnut.production..1000.tons.\n",
      "groundnut.yield..kg.per.ha.\n",
      "sesamum.area..1000.ha.\n",
      "sesamum.production..1000.tons.\n",
      "sesamum.yield..kg.per.ha.\n",
      "rapeseed.and.mustard.area..1000.ha.\n",
      "rapeseed.and.mustard.production..1000.tons.\n",
      "rapeseed.and.mustard.yield..kg.per.ha.\n",
      "safflower.area..1000.ha.\n",
      "safflower.production..1000.tons.\n",
      "safflower.yield..kg.per.ha.\n",
      "castor.area..1000.ha.\n",
      "castor.production..1000.tons.\n",
      "castor.yield..kg.per.ha.\n",
      "linseed.area..1000.ha.\n",
      "linseed.production..1000.tons.\n",
      "linseed.yield..kg.per.ha.\n",
      "sunflower.area..1000.ha.\n",
      "sunflower.production..1000.tons.\n",
      "sunflower.yield..kg.per.ha.\n",
      "soyabean.area..1000.ha.\n",
      "soyabean.production..1000.tons.\n",
      "soyabean.yield..kg.per.ha.\n",
      "oilseeds.area..1000.ha.\n",
      "oilseeds.production..1000.tons.\n",
      "oilseeds.yield..kg.per.ha.\n",
      "sugarcane.area..1000.ha.\n",
      "sugarcane.production..1000.tons.\n",
      "sugarcane.yield..kg.per.ha.\n",
      "cotton.area..1000.ha.\n",
      "cotton.production..1000.tons.\n",
      "cotton.yield..kg.per.ha.\n",
      "fruits.area..1000.ha.\n",
      "vegetables.area..1000.ha.\n",
      "fruits.and.vegetables.area..1000.ha.\n",
      "potatoes.area..1000.ha.\n",
      "onion.area..1000.ha.\n",
      "fodder.area..1000.ha.\n"
     ]
    }
   ],
   "source": [
    "# Assuming your DataFrame is named 'df' (replace with the actual DataFrame variable)\n",
    "columns = merged_data.columns.tolist()  # Convert to a list for better formatting\n",
    "for col in columns:\n",
    "    print(col)\n"
   ]
  },
  {
   "cell_type": "code",
   "execution_count": 16,
   "id": "a85f6c8a",
   "metadata": {},
   "outputs": [],
   "source": [
    "crop_production = pd.read_csv('crop_production.csv')\n",
    "district_population = pd.read_csv('district_level_population.csv')\n",
    "food = pd.read_csv('food.csv')\n",
    "nutrition = pd.read_csv('nutrition.csv')\n",
    "rainfall = pd.read_csv('rainfall.csv')\n",
    "yield_complete = pd.read_csv('yield_complete.csv')\n",
    "necessary_nutrition = pd.read_csv('necessary_nutrition.csv')"
   ]
  },
  {
   "cell_type": "code",
   "execution_count": 28,
   "id": "8f5ba81c",
   "metadata": {},
   "outputs": [
    {
     "name": "stdout",
     "output_type": "stream",
     "text": [
      "{'protein': {'children_male': 2122500.0, 'children_female': 17898000.0, 'adults_male': 1304500.0, 'adults_female': 26176500.0}, 'carbohydrates': {'children_male': 12735000.0, 'children_female': 107388000.0, 'adults_male': 7827000.0, 'adults_female': 157059000.0}, 'total fat': {'children_male': 2971500.0, 'children_female': 25057200.0, 'adults_male': 1826300.0, 'adults_female': 36647100.0}, 'saturated fat': {'children_male': 849000.0, 'children_female': 7159200.0, 'adults_male': 521800.0, 'adults_female': 10470600.0}, 'fiber': {'children_male': 1061250.0, 'children_female': 8949000.0, 'adults_male': 652250.0, 'adults_female': 13088250.0}, 'sugar': {'children_male': 3820500.0, 'children_female': 32216400.0, 'adults_male': 2348100.0, 'adults_female': 47117700.0}, 'vitamin a': {'children_male': 38205000.0, 'children_female': 322164000.0, 'adults_male': 23481000.0, 'adults_female': 471177000.0}, 'vitamin c': {'children_male': 3820500.0, 'children_female': 32216400.0, 'adults_male': 2348100.0, 'adults_female': 47117700.0}, 'calcium': {'children_male': 42450000.0, 'children_female': 357960000.0, 'adults_male': 26090000.0, 'adults_female': 523530000.0}, 'iron': {'children_male': 764100.0, 'children_female': 6443280.0, 'adults_male': 469620.0, 'adults_female': 9423540.0}, 'potassium': {'children_male': 199515000.0, 'children_female': 1682412000.0, 'adults_male': 122623000.0, 'adults_female': 2460591000.0}, 'magnesium': {'children_male': 16980000.0, 'children_female': 143184000.0, 'adults_male': 10436000.0, 'adults_female': 209412000.0}, 'zinc': {'children_male': 466950.0, 'children_female': 3937560.0, 'adults_male': 286990.0, 'adults_female': 5758830.0}, 'vitamin d': {'children_male': 849000.0, 'children_female': 7159200.0, 'adults_male': 521800.0, 'adults_female': 10470600.0}, 'vitamin b12': {'children_male': 101880.0, 'children_female': 859104.0, 'adults_male': 62616.0, 'adults_female': 1256472.0}}\n"
     ]
    }
   ],
   "source": [
    "# Define age and gender groups and nutritional requirements\n",
    "age_gender_groups = {\n",
    "    'children_male': ['young male crossbred (1000 number)', 'young male indigenous (1000 number)'],\n",
    "    'children_female': ['young female crossbred (1000 number)', 'young female indigenous (1000 number)'],\n",
    "    'adults_male': ['adult male crossbred (1000 number)', 'adult male indigenous (1000 number)'],\n",
    "    'adults_female': ['adult female crossbred (1000 number)', 'adult female indigenous (1000 number)']\n",
    "}\n",
    "\n",
    "required_nutrition = necessary_nutrition.set_index('nutrient')['daily_requirement'].to_dict()\n",
    "\n",
    "# Calculate dietary needs based on population data\n",
    "def calculate_dietary_needs(state, district):\n",
    "    input_data = merged_data[(merged_data['state_name'].str.lower() == state.lower()) & (merged_data['district_name'].str.lower() == district.lower())]\n",
    "    if input_data.empty:\n",
    "        return \"No data available for the given state and district.\"\n",
    "    \n",
    "    # Predict dietary needs based on population data\n",
    "    dietary_needs = {}\n",
    "    \n",
    "    for nutrient, daily_requirement in required_nutrition.items():\n",
    "        dietary_needs[nutrient] = {}\n",
    "        for group, columns in age_gender_groups.items():\n",
    "            group_population = sum(input_data[col].values[0] for col in columns) * 1000  # Convert thousands to actual number\n",
    "            total_requirement = group_population * daily_requirement\n",
    "            dietary_needs[nutrient][group] = total_requirement\n",
    "    \n",
    "    return dietary_needs\n",
    "\n",
    "# Example usage\n",
    "dietary_needs = calculate_dietary_needs('andhra pradesh', 'chittoor')\n",
    "print(dietary_needs)\n"
   ]
  },
  {
   "cell_type": "code",
   "execution_count": 35,
   "id": "99f28b14",
   "metadata": {},
   "outputs": [
    {
     "name": "stdout",
     "output_type": "stream",
     "text": [
      "{'chittoor': {'protein': 374179956500.0, 'carbohydrates': 373942449000.0, 'total fat': 374160955900.0, 'saturated fat': 374208457400.0, 'fiber': 374203707250.0, 'sugar': 374141955300.0, 'vitamin a': 373372431000.0, 'vitamin c': 374141955300.0, 'calcium': 373277428000.0, 'iron': 374210357460.0, 'potassium': 369762317000.0, 'magnesium': 373847446000.0, 'zinc': 374217007670.0, 'vitamin d': 374208457400.0, 'vitamin b12': 374225177928.0}, 'east godavari': {'protein': 8993453741000.0, 'carbohydrates': 8993354736000.0, 'total fat': 8993445820600.0, 'saturated fat': 8993465621600.0, 'fiber': 8993463641500.0, 'sugar': 8993437900200.0, 'vitamin a': 8993117124000.0, 'vitamin c': 8993437900200.0, 'calcium': 8993077522000.0, 'iron': 8993466413640.0, 'potassium': 8991612248000.0, 'magnesium': 8993315134000.0, 'zinc': 8993469185780.0, 'vitamin d': 8993465621600.0, 'vitamin b12': 8993472591552.0}, 'guntur': {'protein': 86635449000.0, 'carbohydrates': 86603609000.0, 'total fat': 86632901800.0, 'saturated fat': 86639269800.0, 'fiber': 86638633000.0, 'sugar': 86630354600.0, 'vitamin a': 86527193000.0, 'vitamin c': 86630354600.0, 'calcium': 86514457000.0, 'iron': 86639524520.0, 'potassium': 86043225000.0, 'magnesium': 86590873000.0, 'zinc': 86640416040.0, 'vitamin d': 86639269800.0, 'vitamin b12': 86641511336.0}, 'krishna': {'protein': 369426501000.0, 'carbohydrates': 369406791000.0, 'total fat': 369424924200.0, 'saturated fat': 369428866200.0, 'fiber': 369428472000.0, 'sugar': 369423347400.0, 'vitamin a': 369359487000.0, 'vitamin c': 369423347400.0, 'calcium': 369351603000.0, 'iron': 369429023880.0, 'potassium': 369059895000.0, 'magnesium': 369398907000.0, 'zinc': 369429575760.0, 'vitamin d': 369428866200.0, 'vitamin b12': 369430253784.0}, 'kurnool': {'protein': 35155937500.0, 'carbohydrates': 35064175000.0, 'total fat': 35148596500.0, 'saturated fat': 35166949000.0, 'fiber': 35165113750.0, 'sugar': 35141255500.0, 'vitamin a': 34843945000.0, 'vitamin c': 35141255500.0, 'calcium': 34807240000.0, 'iron': 35167683100.0, 'potassium': 33449155000.0, 'magnesium': 35027470000.0, 'zinc': 35170252450.0, 'vitamin d': 35166949000.0, 'vitamin b12': 35173409080.0}, 'srikakulam': {'protein': 2142821125000.0, 'carbohydrates': 2142616765000.0, 'total fat': 2142804776200.0, 'saturated fat': 2142845648200.0, 'fiber': 2142841561000.0, 'sugar': 2142788427400.0, 'vitamin a': 2142126301000.0, 'vitamin c': 2142788427400.0, 'calcium': 2142044557000.0, 'iron': 2142847283080.0, 'potassium': 2139020029000.0, 'magnesium': 2142535021000.0, 'zinc': 2142853005160.0, 'vitamin d': 2142845648200.0, 'vitamin b12': 2142860035144.0}, 'west godavari': {'protein': 4288540692500.0, 'carbohydrates': 4288490415000.0, 'total fat': 4288536670300.0, 'saturated fat': 4288546725800.0, 'fiber': 4288545720250.0, 'sugar': 4288532648100.0, 'vitamin a': 4288369749000.0, 'vitamin c': 4288532648100.0, 'calcium': 4288349638000.0, 'iron': 4288547128020.0, 'potassium': 4287605531000.0, 'magnesium': 4288470304000.0, 'zinc': 4288548535790.0, 'vitamin d': 4288546725800.0, 'vitamin b12': 4288550265336.0}}\n"
     ]
    }
   ],
   "source": [
    "def identify_surplus_deficit(state):\n",
    "    state_data = merged_data[merged_data['state_name'].str.lower() == state.lower()]\n",
    "    total_production = state_data.groupby('district_name')['production'].sum()\n",
    "    dietary_needs = {}\n",
    "    \n",
    "    for district in state_data['district_name'].unique():\n",
    "        dietary_needs[district] = calculate_dietary_needs(state, district)\n",
    "    \n",
    "    surplus_deficit = {}\n",
    "    for district, needs in dietary_needs.items():\n",
    "        production = total_production[district] * 1000  # Convert to actual number\n",
    "        surplus_deficit[district] = {}\n",
    "        \n",
    "        for nutrient, group_needs in needs.items():\n",
    "            total_need = sum(group_needs.values())\n",
    "            surplus_deficit[district][nutrient] = production - total_need\n",
    "    \n",
    "    return surplus_deficit\n",
    "\n",
    "# Example usage\n",
    "surplus_deficit = identify_surplus_deficit('andhra pradesh')\n",
    "print(surplus_deficit)\n"
   ]
  },
  {
   "cell_type": "code",
   "execution_count": 47,
   "id": "9377a7a4",
   "metadata": {},
   "outputs": [
    {
     "name": "stdout",
     "output_type": "stream",
     "text": [
      "{'protein': {'daily_requirement': 50.0, 'description': 'essential for growth and repair of tissues', 'food_items': ['textured vegetable protein', 'nutrition bar (snickers marathon protein bar)']}, 'carbohydrates': {'daily_requirement': 300.0, 'description': 'primary source of energy', 'food_items': ['No specific food items found']}, 'total fat': {'daily_requirement': 70.0, 'description': 'required for energy and cell function', 'food_items': ['No specific food items found']}, 'saturated fat': {'daily_requirement': 20.0, 'description': 'should be limited due to health concerns', 'food_items': ['No specific food items found']}, 'fiber': {'daily_requirement': 25.0, 'description': 'important for digestive health', 'food_items': ['cereal or granola bar (general mills fiber one chewy bar)', 'cereal (general mills fiber one)']}, 'sugar': {'daily_requirement': 90.0, 'description': 'should be limited to prevent health issues', 'food_items': ['cereal or granola bar (quaker chewy 25% less sugar granola bar)']}, 'vitamin a': {'daily_requirement': 900.0, 'description': 'important for vision and immune function', 'food_items': ['No specific food items found']}, 'vitamin c': {'daily_requirement': 90.0, 'description': 'necessary for the growth and repair of tissues', 'food_items': ['No specific food items found']}, 'calcium': {'daily_requirement': 1000.0, 'description': 'essential for bone health', 'food_items': ['No specific food items found']}, 'iron': {'daily_requirement': 18.0, 'description': 'required for blood production', 'food_items': ['No specific food items found']}, 'potassium': {'daily_requirement': 4700.0, 'description': 'helps maintain normal fluid balance', 'food_items': ['No specific food items found']}, 'magnesium': {'daily_requirement': 400.0, 'description': 'important for muscle and nerve function', 'food_items': ['No specific food items found']}, 'zinc': {'daily_requirement': 11.0, 'description': 'supports immune system function', 'food_items': ['No specific food items found']}, 'vitamin d': {'daily_requirement': 20.0, 'description': 'important for bone health', 'food_items': ['No specific food items found']}, 'vitamin b12': {'daily_requirement': 2.4, 'description': 'essential for nerve function and blood formation', 'food_items': ['No specific food items found']}}\n"
     ]
    }
   ],
   "source": [
    "def get_nutrition_info():\n",
    "    nutrient_to_category = {\n",
    "        'protein': 'protein',\n",
    "        'carbohydrates': 'carbohydrate',\n",
    "        'total fat': 'fat',\n",
    "        'saturated fat': 'saturated fat',\n",
    "        'fiber': 'fiber',\n",
    "        'sugar': 'sugar',\n",
    "        'vitamin a': 'vitamin a',\n",
    "        'vitamin c': 'vitamin c',\n",
    "        'calcium': 'calcium',\n",
    "        'iron': 'iron',\n",
    "        'potassium': 'potassium',\n",
    "        'magnesium': 'magnesium',\n",
    "        'zinc': 'zinc',\n",
    "        'vitamin d': 'vitamin d',\n",
    "        'vitamin b12': 'vitamin b12'\n",
    "    }\n",
    "    \n",
    "    nutrition_info = {}\n",
    "    for nutrient, category in nutrient_to_category.items():\n",
    "        food_items = food[food['category'].str.contains(category, case=False, na=False)]\n",
    "        description = necessary_nutrition[necessary_nutrition['nutrient'].str.lower() == nutrient.lower()]['description'].values[0]\n",
    "        if not food_items.empty:\n",
    "            nutrition_info[nutrient] = {\n",
    "                'daily_requirement': required_nutrition[nutrient],\n",
    "                'description': description,\n",
    "                'food_items': food_items['description'].tolist()\n",
    "            }\n",
    "        else:\n",
    "            nutrition_info[nutrient] = {\n",
    "                'daily_requirement': required_nutrition[nutrient],\n",
    "                'description': description,\n",
    "                'food_items': [\"No specific food items found\"]\n",
    "            }\n",
    "    return nutrition_info\n",
    "\n",
    "# Example usage\n",
    "nutrition_info = get_nutrition_info()\n",
    "print(nutrition_info)\n"
   ]
  },
  {
   "cell_type": "code",
   "execution_count": 43,
   "id": "6134fbad",
   "metadata": {},
   "outputs": [
    {
     "name": "stdout",
     "output_type": "stream",
     "text": [
      "  category                                        description\n",
      "0  protein                         textured vegetable protein\n",
      "1    fiber  cereal or granola bar (general mills fiber one...\n",
      "2    sugar  cereal or granola bar (quaker chewy 25% less s...\n",
      "3  protein      nutrition bar (snickers marathon protein bar)\n",
      "4    fiber                   cereal (general mills fiber one)\n"
     ]
    }
   ],
   "source": [
    "# Sample structure of the food dataset\n",
    "food = pd.DataFrame({\n",
    "    'category': ['protein', 'fiber', 'sugar', 'protein', 'fiber'],\n",
    "    'description': ['textured vegetable protein', 'cereal or granola bar (general mills fiber one chewy bar)', \n",
    "                    'cereal or granola bar (quaker chewy 25% less sugar granola bar)', \n",
    "                    'nutrition bar (snickers marathon protein bar)', \n",
    "                    'cereal (general mills fiber one)']\n",
    "})\n",
    "\n",
    "print(food.head())\n"
   ]
  },
  {
   "cell_type": "code",
   "execution_count": 48,
   "id": "b37a5f52",
   "metadata": {
    "scrolled": false
   },
   "outputs": [
    {
     "data": {
      "text/html": [
       "\n",
       "    <h3>Results for andhra pradesh - chittoor</h3>\n",
       "    <p><b>Dietary Needs:</b></p>\n",
       "    <ul>\n",
       "    <li>children_male - protein: 2122500.0 mg</li><li>children_female - protein: 17898000.0 mg</li><li>adults_male - protein: 1304500.0 mg</li><li>adults_female - protein: 26176500.0 mg</li><li>children_male - carbohydrates: 12735000.0 mg</li><li>children_female - carbohydrates: 107388000.0 mg</li><li>adults_male - carbohydrates: 7827000.0 mg</li><li>adults_female - carbohydrates: 157059000.0 mg</li><li>children_male - total fat: 2971500.0 mg</li><li>children_female - total fat: 25057200.0 mg</li><li>adults_male - total fat: 1826300.0 mg</li><li>adults_female - total fat: 36647100.0 mg</li><li>children_male - saturated fat: 849000.0 mg</li><li>children_female - saturated fat: 7159200.0 mg</li><li>adults_male - saturated fat: 521800.0 mg</li><li>adults_female - saturated fat: 10470600.0 mg</li><li>children_male - fiber: 1061250.0 mg</li><li>children_female - fiber: 8949000.0 mg</li><li>adults_male - fiber: 652250.0 mg</li><li>adults_female - fiber: 13088250.0 mg</li><li>children_male - sugar: 3820500.0 mg</li><li>children_female - sugar: 32216400.0 mg</li><li>adults_male - sugar: 2348100.0 mg</li><li>adults_female - sugar: 47117700.0 mg</li><li>children_male - vitamin a: 38205000.0 mg</li><li>children_female - vitamin a: 322164000.0 mg</li><li>adults_male - vitamin a: 23481000.0 mg</li><li>adults_female - vitamin a: 471177000.0 mg</li><li>children_male - vitamin c: 3820500.0 mg</li><li>children_female - vitamin c: 32216400.0 mg</li><li>adults_male - vitamin c: 2348100.0 mg</li><li>adults_female - vitamin c: 47117700.0 mg</li><li>children_male - calcium: 42450000.0 mg</li><li>children_female - calcium: 357960000.0 mg</li><li>adults_male - calcium: 26090000.0 mg</li><li>adults_female - calcium: 523530000.0 mg</li><li>children_male - iron: 764100.0 mg</li><li>children_female - iron: 6443280.0 mg</li><li>adults_male - iron: 469620.0 mg</li><li>adults_female - iron: 9423540.0 mg</li><li>children_male - potassium: 199515000.0 mg</li><li>children_female - potassium: 1682412000.0 mg</li><li>adults_male - potassium: 122623000.0 mg</li><li>adults_female - potassium: 2460591000.0 mg</li><li>children_male - magnesium: 16980000.0 mg</li><li>children_female - magnesium: 143184000.0 mg</li><li>adults_male - magnesium: 10436000.0 mg</li><li>adults_female - magnesium: 209412000.0 mg</li><li>children_male - zinc: 466950.0 mg</li><li>children_female - zinc: 3937560.0 mg</li><li>adults_male - zinc: 286990.0 mg</li><li>adults_female - zinc: 5758830.0 mg</li><li>children_male - vitamin d: 849000.0 mg</li><li>children_female - vitamin d: 7159200.0 mg</li><li>adults_male - vitamin d: 521800.0 mg</li><li>adults_female - vitamin d: 10470600.0 mg</li><li>children_male - vitamin b12: 101880.0 mg</li><li>children_female - vitamin b12: 859104.0 mg</li><li>adults_male - vitamin b12: 62616.0 mg</li><li>adults_female - vitamin b12: 1256472.0 mg</li>\n",
       "    </ul>\n",
       "    <p><b>Surplus/Deficit Status:</b></p>\n",
       "    <ul>\n",
       "    <li>chittoor: protein: 374179956500.0 mg carbohydrates: 373942449000.0 mg total fat: 374160955900.0 mg saturated fat: 374208457400.0 mg fiber: 374203707250.0 mg sugar: 374141955300.0 mg vitamin a: 373372431000.0 mg vitamin c: 374141955300.0 mg calcium: 373277428000.0 mg iron: 374210357460.0 mg potassium: 369762317000.0 mg magnesium: 373847446000.0 mg zinc: 374217007670.0 mg vitamin d: 374208457400.0 mg vitamin b12: 374225177928.0 mg </li><li>east godavari: protein: 8993453741000.0 mg carbohydrates: 8993354736000.0 mg total fat: 8993445820600.0 mg saturated fat: 8993465621600.0 mg fiber: 8993463641500.0 mg sugar: 8993437900200.0 mg vitamin a: 8993117124000.0 mg vitamin c: 8993437900200.0 mg calcium: 8993077522000.0 mg iron: 8993466413640.0 mg potassium: 8991612248000.0 mg magnesium: 8993315134000.0 mg zinc: 8993469185780.0 mg vitamin d: 8993465621600.0 mg vitamin b12: 8993472591552.0 mg </li><li>guntur: protein: 86635449000.0 mg carbohydrates: 86603609000.0 mg total fat: 86632901800.0 mg saturated fat: 86639269800.0 mg fiber: 86638633000.0 mg sugar: 86630354600.0 mg vitamin a: 86527193000.0 mg vitamin c: 86630354600.0 mg calcium: 86514457000.0 mg iron: 86639524520.0 mg potassium: 86043225000.0 mg magnesium: 86590873000.0 mg zinc: 86640416040.0 mg vitamin d: 86639269800.0 mg vitamin b12: 86641511336.0 mg </li><li>krishna: protein: 369426501000.0 mg carbohydrates: 369406791000.0 mg total fat: 369424924200.0 mg saturated fat: 369428866200.0 mg fiber: 369428472000.0 mg sugar: 369423347400.0 mg vitamin a: 369359487000.0 mg vitamin c: 369423347400.0 mg calcium: 369351603000.0 mg iron: 369429023880.0 mg potassium: 369059895000.0 mg magnesium: 369398907000.0 mg zinc: 369429575760.0 mg vitamin d: 369428866200.0 mg vitamin b12: 369430253784.0 mg </li><li>kurnool: protein: 35155937500.0 mg carbohydrates: 35064175000.0 mg total fat: 35148596500.0 mg saturated fat: 35166949000.0 mg fiber: 35165113750.0 mg sugar: 35141255500.0 mg vitamin a: 34843945000.0 mg vitamin c: 35141255500.0 mg calcium: 34807240000.0 mg iron: 35167683100.0 mg potassium: 33449155000.0 mg magnesium: 35027470000.0 mg zinc: 35170252450.0 mg vitamin d: 35166949000.0 mg vitamin b12: 35173409080.0 mg </li><li>srikakulam: protein: 2142821125000.0 mg carbohydrates: 2142616765000.0 mg total fat: 2142804776200.0 mg saturated fat: 2142845648200.0 mg fiber: 2142841561000.0 mg sugar: 2142788427400.0 mg vitamin a: 2142126301000.0 mg vitamin c: 2142788427400.0 mg calcium: 2142044557000.0 mg iron: 2142847283080.0 mg potassium: 2139020029000.0 mg magnesium: 2142535021000.0 mg zinc: 2142853005160.0 mg vitamin d: 2142845648200.0 mg vitamin b12: 2142860035144.0 mg </li><li>west godavari: protein: 4288540692500.0 mg carbohydrates: 4288490415000.0 mg total fat: 4288536670300.0 mg saturated fat: 4288546725800.0 mg fiber: 4288545720250.0 mg sugar: 4288532648100.0 mg vitamin a: 4288369749000.0 mg vitamin c: 4288532648100.0 mg calcium: 4288349638000.0 mg iron: 4288547128020.0 mg potassium: 4287605531000.0 mg magnesium: 4288470304000.0 mg zinc: 4288548535790.0 mg vitamin d: 4288546725800.0 mg vitamin b12: 4288550265336.0 mg </li>\n",
       "    </ul>\n",
       "    <p><b>Nutritional Information:</b></p>\n",
       "    <ul>\n",
       "    <li>protein: essential for growth and repair of tissues (Daily Requirement: 50.0 mg) - Food items: textured vegetable protein, nutrition bar (snickers marathon protein bar)</li><li>carbohydrates: primary source of energy (Daily Requirement: 300.0 mg) - Food items: No specific food items found</li><li>total fat: required for energy and cell function (Daily Requirement: 70.0 mg) - Food items: No specific food items found</li><li>saturated fat: should be limited due to health concerns (Daily Requirement: 20.0 mg) - Food items: No specific food items found</li><li>fiber: important for digestive health (Daily Requirement: 25.0 mg) - Food items: cereal or granola bar (general mills fiber one chewy bar), cereal (general mills fiber one)</li><li>sugar: should be limited to prevent health issues (Daily Requirement: 90.0 mg) - Food items: cereal or granola bar (quaker chewy 25% less sugar granola bar)</li><li>vitamin a: important for vision and immune function (Daily Requirement: 900.0 mg) - Food items: No specific food items found</li><li>vitamin c: necessary for the growth and repair of tissues (Daily Requirement: 90.0 mg) - Food items: No specific food items found</li><li>calcium: essential for bone health (Daily Requirement: 1000.0 mg) - Food items: No specific food items found</li><li>iron: required for blood production (Daily Requirement: 18.0 mg) - Food items: No specific food items found</li><li>potassium: helps maintain normal fluid balance (Daily Requirement: 4700.0 mg) - Food items: No specific food items found</li><li>magnesium: important for muscle and nerve function (Daily Requirement: 400.0 mg) - Food items: No specific food items found</li><li>zinc: supports immune system function (Daily Requirement: 11.0 mg) - Food items: No specific food items found</li><li>vitamin d: important for bone health (Daily Requirement: 20.0 mg) - Food items: No specific food items found</li><li>vitamin b12: essential for nerve function and blood formation (Daily Requirement: 2.4 mg) - Food items: No specific food items found</li>\n",
       "    </ul>\n",
       "    "
      ],
      "text/plain": [
       "<IPython.core.display.HTML object>"
      ]
     },
     "metadata": {},
     "output_type": "display_data"
    }
   ],
   "source": [
    "from IPython.display import display, HTML\n",
    "\n",
    "def display_results(state, district):\n",
    "    dietary_needs = calculate_dietary_needs(state, district)\n",
    "    surplus_deficit_status = identify_surplus_deficit(state)\n",
    "    nutrition_info = get_nutrition_info()\n",
    "    \n",
    "    result = f\"\"\"\n",
    "    <h3>Results for {state} - {district}</h3>\n",
    "    <p><b>Dietary Needs:</b></p>\n",
    "    <ul>\n",
    "    \"\"\"\n",
    "    for nutrient, needs in dietary_needs.items():\n",
    "        for group, value in needs.items():\n",
    "            result += f\"<li>{group} - {nutrient}: {value} mg</li>\"\n",
    "    result += f\"\"\"\n",
    "    </ul>\n",
    "    <p><b>Surplus/Deficit Status:</b></p>\n",
    "    <ul>\n",
    "    \"\"\"\n",
    "    for district, nutrients in surplus_deficit_status.items():\n",
    "        result += f\"<li>{district}: \"\n",
    "        for nutrient, value in nutrients.items():\n",
    "            result += f\"{nutrient}: {value} mg \"\n",
    "        result += \"</li>\"\n",
    "    result += f\"\"\"\n",
    "    </ul>\n",
    "    <p><b>Nutritional Information:</b></p>\n",
    "    <ul>\n",
    "    \"\"\"\n",
    "    for nutrient, info in nutrition_info.items():\n",
    "        result += f\"<li>{nutrient}: {info['description']} (Daily Requirement: {info['daily_requirement']} mg) - Food items: {', '.join(info['food_items'])}</li>\"\n",
    "    result += f\"\"\"\n",
    "    </ul>\n",
    "    \"\"\"\n",
    "    display(HTML(result))\n",
    "\n",
    "# Example usage\n",
    "display_results('andhra pradesh', 'chittoor')\n"
   ]
  },
  {
   "cell_type": "code",
   "execution_count": null,
   "id": "6d543f2a",
   "metadata": {},
   "outputs": [],
   "source": []
  },
  {
   "cell_type": "code",
   "execution_count": null,
   "id": "9f0b89cb",
   "metadata": {},
   "outputs": [],
   "source": []
  }
 ],
 "metadata": {
  "kernelspec": {
   "display_name": "Python 3 (ipykernel)",
   "language": "python",
   "name": "python3"
  },
  "language_info": {
   "codemirror_mode": {
    "name": "ipython",
    "version": 3
   },
   "file_extension": ".py",
   "mimetype": "text/x-python",
   "name": "python",
   "nbconvert_exporter": "python",
   "pygments_lexer": "ipython3",
   "version": "3.12.3"
  }
 },
 "nbformat": 4,
 "nbformat_minor": 5
}
